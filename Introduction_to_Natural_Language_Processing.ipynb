{
  "cells": [
    {
      "cell_type": "markdown",
      "metadata": {
        "id": "view-in-github",
        "colab_type": "text"
      },
      "source": [
        "<a href=\"https://colab.research.google.com/github/ssbracey/practical-nlp-code/blob/master/Introduction_to_Natural_Language_Processing.ipynb\" target=\"_parent\"><img src=\"https://colab.research.google.com/assets/colab-badge.svg\" alt=\"Open In Colab\"/></a>"
      ]
    },
    {
      "cell_type": "markdown",
      "metadata": {
        "id": "2opHX5Bih-Rf"
      },
      "source": [
        "# Natural Language Processing with Python\n",
        "\n",
        "Natural language processing - commonly referred to as NLP - is the area of computer science dedicated to computers understanding human language such as speech or text. There are many examples of NLP applications including the following:\n",
        "\n",
        "- Sentiment Analysis - Determine the tone of text\n",
        "- Speech Recognition - Translate a sound clip to text\n",
        "- Predictive Text - Complete sentences based on a few words\n",
        "\n",
        "In this course, we will walk through the basics of NLP with Python libraries such as pandas, spaCy, and scikit-learn. We will cover the following topics:\n",
        "- Preprocessing\n",
        "- Token Frequency\n",
        "- Part of Speech Tagging\n",
        "- Named Entity Recognition\n",
        "- Text Similarity\n",
        "- Dependency Parsing\n",
        "\n",
        "This course assumes you have a beginner to intermediate knowledge of Python."
      ]
    },
    {
      "cell_type": "code",
      "execution_count": 1,
      "metadata": {
        "id": "zHliiECf_35F",
        "colab": {
          "base_uri": "https://localhost:8080/"
        },
        "outputId": "71af7a30-e31b-4aba-e42c-ce9f06eb01bb"
      },
      "outputs": [
        {
          "output_type": "stream",
          "name": "stdout",
          "text": [
            "Collecting nltk==3.4.5\n",
            "  Downloading nltk-3.4.5.zip (1.5 MB)\n",
            "\u001b[K     |████████████████████████████████| 1.5 MB 5.8 MB/s \n",
            "\u001b[?25hRequirement already satisfied: six in /usr/local/lib/python3.7/dist-packages (from nltk==3.4.5) (1.15.0)\n",
            "Building wheels for collected packages: nltk\n",
            "  Building wheel for nltk (setup.py) ... \u001b[?25l\u001b[?25hdone\n",
            "  Created wheel for nltk: filename=nltk-3.4.5-py3-none-any.whl size=1449923 sha256=db46b6152046721d6255ef0165eb6510535bb498924f28c25c2cbac689cf82da\n",
            "  Stored in directory: /root/.cache/pip/wheels/48/8b/7f/473521e0c731c6566d631b281f323842bbda9bd819eb9a3ead\n",
            "Successfully built nltk\n",
            "Installing collected packages: nltk\n",
            "  Attempting uninstall: nltk\n",
            "    Found existing installation: nltk 3.2.5\n",
            "    Uninstalling nltk-3.2.5:\n",
            "      Successfully uninstalled nltk-3.2.5\n",
            "Successfully installed nltk-3.4.5\n"
          ]
        }
      ],
      "source": [
        "# Upgrade nltk library for jaro winkler similarity later in the course\n",
        "# Must restart your runtime afterwards\n",
        "!pip install nltk==3.4.5"
      ]
    },
    {
      "cell_type": "markdown",
      "metadata": {
        "id": "fCAo8vU6h-Rj"
      },
      "source": [
        "## spaCy\n",
        "Throughout this tutorial, we will be using a spaCy, a popular open-source library for NLP in Python. The library is designed to help you create applications that process and understand text. spaCy offers several pre-made text processing pipelines on their site. The pipelines are packaged as [models](https://spacy.io/models/en) which can be downloaded. For this demo, we will download the small English model trained on text from blogs, news, and comments."
      ]
    },
    {
      "cell_type": "code",
      "execution_count": 2,
      "metadata": {
        "id": "ZPGHrw47h-Rj",
        "colab": {
          "base_uri": "https://localhost:8080/"
        },
        "outputId": "1386d5d0-4fb9-4ff2-a101-515ee64d6270"
      },
      "outputs": [
        {
          "output_type": "stream",
          "name": "stdout",
          "text": [
            "Collecting en_core_web_sm==2.2.5\n",
            "  Downloading https://github.com/explosion/spacy-models/releases/download/en_core_web_sm-2.2.5/en_core_web_sm-2.2.5.tar.gz (12.0 MB)\n",
            "\u001b[K     |████████████████████████████████| 12.0 MB 5.6 MB/s \n",
            "\u001b[?25hRequirement already satisfied: spacy>=2.2.2 in /usr/local/lib/python3.7/dist-packages (from en_core_web_sm==2.2.5) (2.2.4)\n",
            "Requirement already satisfied: setuptools in /usr/local/lib/python3.7/dist-packages (from spacy>=2.2.2->en_core_web_sm==2.2.5) (57.4.0)\n",
            "Requirement already satisfied: murmurhash<1.1.0,>=0.28.0 in /usr/local/lib/python3.7/dist-packages (from spacy>=2.2.2->en_core_web_sm==2.2.5) (1.0.6)\n",
            "Requirement already satisfied: srsly<1.1.0,>=1.0.2 in /usr/local/lib/python3.7/dist-packages (from spacy>=2.2.2->en_core_web_sm==2.2.5) (1.0.5)\n",
            "Requirement already satisfied: tqdm<5.0.0,>=4.38.0 in /usr/local/lib/python3.7/dist-packages (from spacy>=2.2.2->en_core_web_sm==2.2.5) (4.64.0)\n",
            "Requirement already satisfied: blis<0.5.0,>=0.4.0 in /usr/local/lib/python3.7/dist-packages (from spacy>=2.2.2->en_core_web_sm==2.2.5) (0.4.1)\n",
            "Requirement already satisfied: preshed<3.1.0,>=3.0.2 in /usr/local/lib/python3.7/dist-packages (from spacy>=2.2.2->en_core_web_sm==2.2.5) (3.0.6)\n",
            "Requirement already satisfied: plac<1.2.0,>=0.9.6 in /usr/local/lib/python3.7/dist-packages (from spacy>=2.2.2->en_core_web_sm==2.2.5) (1.1.3)\n",
            "Requirement already satisfied: cymem<2.1.0,>=2.0.2 in /usr/local/lib/python3.7/dist-packages (from spacy>=2.2.2->en_core_web_sm==2.2.5) (2.0.6)\n",
            "Requirement already satisfied: thinc==7.4.0 in /usr/local/lib/python3.7/dist-packages (from spacy>=2.2.2->en_core_web_sm==2.2.5) (7.4.0)\n",
            "Requirement already satisfied: catalogue<1.1.0,>=0.0.7 in /usr/local/lib/python3.7/dist-packages (from spacy>=2.2.2->en_core_web_sm==2.2.5) (1.0.0)\n",
            "Requirement already satisfied: requests<3.0.0,>=2.13.0 in /usr/local/lib/python3.7/dist-packages (from spacy>=2.2.2->en_core_web_sm==2.2.5) (2.23.0)\n",
            "Requirement already satisfied: wasabi<1.1.0,>=0.4.0 in /usr/local/lib/python3.7/dist-packages (from spacy>=2.2.2->en_core_web_sm==2.2.5) (0.9.1)\n",
            "Requirement already satisfied: numpy>=1.15.0 in /usr/local/lib/python3.7/dist-packages (from spacy>=2.2.2->en_core_web_sm==2.2.5) (1.21.5)\n",
            "Requirement already satisfied: importlib-metadata>=0.20 in /usr/local/lib/python3.7/dist-packages (from catalogue<1.1.0,>=0.0.7->spacy>=2.2.2->en_core_web_sm==2.2.5) (4.11.3)\n",
            "Requirement already satisfied: typing-extensions>=3.6.4 in /usr/local/lib/python3.7/dist-packages (from importlib-metadata>=0.20->catalogue<1.1.0,>=0.0.7->spacy>=2.2.2->en_core_web_sm==2.2.5) (4.1.1)\n",
            "Requirement already satisfied: zipp>=0.5 in /usr/local/lib/python3.7/dist-packages (from importlib-metadata>=0.20->catalogue<1.1.0,>=0.0.7->spacy>=2.2.2->en_core_web_sm==2.2.5) (3.8.0)\n",
            "Requirement already satisfied: urllib3!=1.25.0,!=1.25.1,<1.26,>=1.21.1 in /usr/local/lib/python3.7/dist-packages (from requests<3.0.0,>=2.13.0->spacy>=2.2.2->en_core_web_sm==2.2.5) (1.24.3)\n",
            "Requirement already satisfied: idna<3,>=2.5 in /usr/local/lib/python3.7/dist-packages (from requests<3.0.0,>=2.13.0->spacy>=2.2.2->en_core_web_sm==2.2.5) (2.10)\n",
            "Requirement already satisfied: chardet<4,>=3.0.2 in /usr/local/lib/python3.7/dist-packages (from requests<3.0.0,>=2.13.0->spacy>=2.2.2->en_core_web_sm==2.2.5) (3.0.4)\n",
            "Requirement already satisfied: certifi>=2017.4.17 in /usr/local/lib/python3.7/dist-packages (from requests<3.0.0,>=2.13.0->spacy>=2.2.2->en_core_web_sm==2.2.5) (2021.10.8)\n",
            "\u001b[38;5;2m✔ Download and installation successful\u001b[0m\n",
            "You can now load the model via spacy.load('en_core_web_sm')\n"
          ]
        }
      ],
      "source": [
        "!python -m spacy download en_core_web_sm"
      ]
    },
    {
      "cell_type": "code",
      "execution_count": 3,
      "metadata": {
        "id": "JxFZHVxRh-Rl"
      },
      "outputs": [],
      "source": [
        "import pandas as pd\n",
        "import spacy\n",
        "from spacy import displacy\n",
        "import string\n",
        "from sklearn.feature_extraction.text import CountVectorizer\n",
        "from pathlib import Path\n",
        "from yellowbrick.text import FreqDistVisualizer\n",
        "import warnings\n",
        "\n",
        "warnings.filterwarnings(\"ignore\")\n",
        "pd.options.display.max_rows = 200\n",
        "nlp = spacy.load('en_core_web_sm')"
      ]
    },
    {
      "cell_type": "markdown",
      "metadata": {
        "id": "kdF2zpU1h-Rm"
      },
      "source": [
        "## The Data\n",
        "In this course, we will analyze a sample of 500 Amazon Home and Kitchen product reviews. [The data](http://jmcauley.ucsd.edu/data/amazon/links.html) is provided by Julian McAuley at the University of California, San Diego and contains reviews from May 1996 - July 2014. In addition to reviews (ratings, text, helpfulness votes), McAuley provides product metadata (descriptions, category information, price, brand, and image features) and links (also viewed/also bought graphs). \n",
        "\n",
        "For this course, we will focus on the review data only. This data is a great example of the ways humans typically communicate through text and includes reviews with typos, run on sentences, and grammatical errors.\n",
        "\n",
        "McAuley provides the following functions to parse the JSON dataset and save it as a dataframe."
      ]
    },
    {
      "cell_type": "code",
      "execution_count": 4,
      "metadata": {
        "id": "_sZf7bDsh-Rm"
      },
      "outputs": [],
      "source": [
        "def parse(path):\n",
        "    f = open(path, 'rb')\n",
        "    for l in f:\n",
        "        yield eval(l)\n",
        "\n",
        "\n",
        "def getDF(path):\n",
        "    i = 0\n",
        "    df = {}\n",
        "    for d in parse(path):\n",
        "        df[i] = d\n",
        "        i += 1\n",
        "    return pd.DataFrame.from_dict(df, orient='index')"
      ]
    },
    {
      "cell_type": "markdown",
      "metadata": {
        "id": "9nd0-BndwAnM"
      },
      "source": [
        "To get the data, follow [this link](https://shorturl.at/wIY27) select the dropdown next to \"PyCon\" and select \"Add shortcut to drive\"![Screen Shot 2022-03-14 at 1.47.58 PM.png](data:image/png;base64,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)"
      ]
    },
    {
      "cell_type": "code",
      "execution_count": 5,
      "metadata": {
        "id": "zn2OSXWaTltN",
        "colab": {
          "base_uri": "https://localhost:8080/"
        },
        "outputId": "8018f656-7bbb-4acc-ef8c-ae968b6e5987"
      },
      "outputs": [
        {
          "output_type": "stream",
          "name": "stdout",
          "text": [
            "Mounted at /content/drive\n"
          ]
        }
      ],
      "source": [
        "from google.colab import drive\n",
        "drive.mount('/content/drive')"
      ]
    },
    {
      "cell_type": "code",
      "execution_count": 6,
      "metadata": {
        "id": "tzqcYdj8h-Rn"
      },
      "outputs": [],
      "source": [
        "df = getDF('/content/drive/MyDrive/PyCon/reviews_Home_and_Kitchen_5.json')\n",
        "df_sample = df.sample(n=500, random_state=1)"
      ]
    },
    {
      "cell_type": "code",
      "execution_count": 7,
      "metadata": {
        "id": "7ZDy3OSHh-Rn",
        "colab": {
          "base_uri": "https://localhost:8080/",
          "height": 206
        },
        "outputId": "925d9653-1178-4c0b-dfa9-2c02079b52f6"
      },
      "outputs": [
        {
          "output_type": "execute_result",
          "data": {
            "text/plain": [
              "            reviewerID        asin                             reviewerName  \\\n",
              "338364  A3SU2IZMOTDPGI  B002YK4ESI                                irishyank   \n",
              "267506  A1TRKTTP1NM71H  B001FB6IFY  Dr. Dave \"-- Fair and Balanced Reviews\"   \n",
              "428410  A2A4C5N5B47Z0Q  B0051AQXZK                          Paula Philbrick   \n",
              "262480   ANVISS3NQQBFD  B001E5CWVU                           A. J. Marshall   \n",
              "241188  A2LQ1O3IHJQPFF  B00179D7IK                                 Meredith   \n",
              "\n",
              "       helpful                                         reviewText  overall  \\\n",
              "338364  [1, 5]  I opened the box and to my surprise the scoop ...      1.0   \n",
              "267506  [1, 6]  I purchased this thermometer because a friend ...      5.0   \n",
              "428410  [0, 0]  The mattress was custom for my daughter, and s...      5.0   \n",
              "262480  [3, 3]  This is entirely my own fault, but hopefully p...      4.0   \n",
              "241188  [0, 0]  My long-time teapot recently broke, so I decid...      4.0   \n",
              "\n",
              "                                          summary  unixReviewTime   reviewTime  \n",
              "338364                                  Failed me      1294876800  01 13, 2011  \n",
              "267506  Great Thermometer - Disappointing Weekend      1358985600  01 24, 2013  \n",
              "428410                     Hard to Get Out of Bed      1375660800   08 5, 2013  \n",
              "262480             Too small for a lot of recipes      1372118400  06 25, 2013  \n",
              "241188                                Cute teapot      1368057600   05 9, 2013  "
            ],
            "text/html": [
              "\n",
              "  <div id=\"df-80dc4dda-b5c9-4f42-a037-035c31ce0d82\">\n",
              "    <div class=\"colab-df-container\">\n",
              "      <div>\n",
              "<style scoped>\n",
              "    .dataframe tbody tr th:only-of-type {\n",
              "        vertical-align: middle;\n",
              "    }\n",
              "\n",
              "    .dataframe tbody tr th {\n",
              "        vertical-align: top;\n",
              "    }\n",
              "\n",
              "    .dataframe thead th {\n",
              "        text-align: right;\n",
              "    }\n",
              "</style>\n",
              "<table border=\"1\" class=\"dataframe\">\n",
              "  <thead>\n",
              "    <tr style=\"text-align: right;\">\n",
              "      <th></th>\n",
              "      <th>reviewerID</th>\n",
              "      <th>asin</th>\n",
              "      <th>reviewerName</th>\n",
              "      <th>helpful</th>\n",
              "      <th>reviewText</th>\n",
              "      <th>overall</th>\n",
              "      <th>summary</th>\n",
              "      <th>unixReviewTime</th>\n",
              "      <th>reviewTime</th>\n",
              "    </tr>\n",
              "  </thead>\n",
              "  <tbody>\n",
              "    <tr>\n",
              "      <th>338364</th>\n",
              "      <td>A3SU2IZMOTDPGI</td>\n",
              "      <td>B002YK4ESI</td>\n",
              "      <td>irishyank</td>\n",
              "      <td>[1, 5]</td>\n",
              "      <td>I opened the box and to my surprise the scoop ...</td>\n",
              "      <td>1.0</td>\n",
              "      <td>Failed me</td>\n",
              "      <td>1294876800</td>\n",
              "      <td>01 13, 2011</td>\n",
              "    </tr>\n",
              "    <tr>\n",
              "      <th>267506</th>\n",
              "      <td>A1TRKTTP1NM71H</td>\n",
              "      <td>B001FB6IFY</td>\n",
              "      <td>Dr. Dave \"-- Fair and Balanced Reviews\"</td>\n",
              "      <td>[1, 6]</td>\n",
              "      <td>I purchased this thermometer because a friend ...</td>\n",
              "      <td>5.0</td>\n",
              "      <td>Great Thermometer - Disappointing Weekend</td>\n",
              "      <td>1358985600</td>\n",
              "      <td>01 24, 2013</td>\n",
              "    </tr>\n",
              "    <tr>\n",
              "      <th>428410</th>\n",
              "      <td>A2A4C5N5B47Z0Q</td>\n",
              "      <td>B0051AQXZK</td>\n",
              "      <td>Paula Philbrick</td>\n",
              "      <td>[0, 0]</td>\n",
              "      <td>The mattress was custom for my daughter, and s...</td>\n",
              "      <td>5.0</td>\n",
              "      <td>Hard to Get Out of Bed</td>\n",
              "      <td>1375660800</td>\n",
              "      <td>08 5, 2013</td>\n",
              "    </tr>\n",
              "    <tr>\n",
              "      <th>262480</th>\n",
              "      <td>ANVISS3NQQBFD</td>\n",
              "      <td>B001E5CWVU</td>\n",
              "      <td>A. J. Marshall</td>\n",
              "      <td>[3, 3]</td>\n",
              "      <td>This is entirely my own fault, but hopefully p...</td>\n",
              "      <td>4.0</td>\n",
              "      <td>Too small for a lot of recipes</td>\n",
              "      <td>1372118400</td>\n",
              "      <td>06 25, 2013</td>\n",
              "    </tr>\n",
              "    <tr>\n",
              "      <th>241188</th>\n",
              "      <td>A2LQ1O3IHJQPFF</td>\n",
              "      <td>B00179D7IK</td>\n",
              "      <td>Meredith</td>\n",
              "      <td>[0, 0]</td>\n",
              "      <td>My long-time teapot recently broke, so I decid...</td>\n",
              "      <td>4.0</td>\n",
              "      <td>Cute teapot</td>\n",
              "      <td>1368057600</td>\n",
              "      <td>05 9, 2013</td>\n",
              "    </tr>\n",
              "  </tbody>\n",
              "</table>\n",
              "</div>\n",
              "      <button class=\"colab-df-convert\" onclick=\"convertToInteractive('df-80dc4dda-b5c9-4f42-a037-035c31ce0d82')\"\n",
              "              title=\"Convert this dataframe to an interactive table.\"\n",
              "              style=\"display:none;\">\n",
              "        \n",
              "  <svg xmlns=\"http://www.w3.org/2000/svg\" height=\"24px\"viewBox=\"0 0 24 24\"\n",
              "       width=\"24px\">\n",
              "    <path d=\"M0 0h24v24H0V0z\" fill=\"none\"/>\n",
              "    <path d=\"M18.56 5.44l.94 2.06.94-2.06 2.06-.94-2.06-.94-.94-2.06-.94 2.06-2.06.94zm-11 1L8.5 8.5l.94-2.06 2.06-.94-2.06-.94L8.5 2.5l-.94 2.06-2.06.94zm10 10l.94 2.06.94-2.06 2.06-.94-2.06-.94-.94-2.06-.94 2.06-2.06.94z\"/><path d=\"M17.41 7.96l-1.37-1.37c-.4-.4-.92-.59-1.43-.59-.52 0-1.04.2-1.43.59L10.3 9.45l-7.72 7.72c-.78.78-.78 2.05 0 2.83L4 21.41c.39.39.9.59 1.41.59.51 0 1.02-.2 1.41-.59l7.78-7.78 2.81-2.81c.8-.78.8-2.07 0-2.86zM5.41 20L4 18.59l7.72-7.72 1.47 1.35L5.41 20z\"/>\n",
              "  </svg>\n",
              "      </button>\n",
              "      \n",
              "  <style>\n",
              "    .colab-df-container {\n",
              "      display:flex;\n",
              "      flex-wrap:wrap;\n",
              "      gap: 12px;\n",
              "    }\n",
              "\n",
              "    .colab-df-convert {\n",
              "      background-color: #E8F0FE;\n",
              "      border: none;\n",
              "      border-radius: 50%;\n",
              "      cursor: pointer;\n",
              "      display: none;\n",
              "      fill: #1967D2;\n",
              "      height: 32px;\n",
              "      padding: 0 0 0 0;\n",
              "      width: 32px;\n",
              "    }\n",
              "\n",
              "    .colab-df-convert:hover {\n",
              "      background-color: #E2EBFA;\n",
              "      box-shadow: 0px 1px 2px rgba(60, 64, 67, 0.3), 0px 1px 3px 1px rgba(60, 64, 67, 0.15);\n",
              "      fill: #174EA6;\n",
              "    }\n",
              "\n",
              "    [theme=dark] .colab-df-convert {\n",
              "      background-color: #3B4455;\n",
              "      fill: #D2E3FC;\n",
              "    }\n",
              "\n",
              "    [theme=dark] .colab-df-convert:hover {\n",
              "      background-color: #434B5C;\n",
              "      box-shadow: 0px 1px 3px 1px rgba(0, 0, 0, 0.15);\n",
              "      filter: drop-shadow(0px 1px 2px rgba(0, 0, 0, 0.3));\n",
              "      fill: #FFFFFF;\n",
              "    }\n",
              "  </style>\n",
              "\n",
              "      <script>\n",
              "        const buttonEl =\n",
              "          document.querySelector('#df-80dc4dda-b5c9-4f42-a037-035c31ce0d82 button.colab-df-convert');\n",
              "        buttonEl.style.display =\n",
              "          google.colab.kernel.accessAllowed ? 'block' : 'none';\n",
              "\n",
              "        async function convertToInteractive(key) {\n",
              "          const element = document.querySelector('#df-80dc4dda-b5c9-4f42-a037-035c31ce0d82');\n",
              "          const dataTable =\n",
              "            await google.colab.kernel.invokeFunction('convertToInteractive',\n",
              "                                                     [key], {});\n",
              "          if (!dataTable) return;\n",
              "\n",
              "          const docLinkHtml = 'Like what you see? Visit the ' +\n",
              "            '<a target=\"_blank\" href=https://colab.research.google.com/notebooks/data_table.ipynb>data table notebook</a>'\n",
              "            + ' to learn more about interactive tables.';\n",
              "          element.innerHTML = '';\n",
              "          dataTable['output_type'] = 'display_data';\n",
              "          await google.colab.output.renderOutput(dataTable, element);\n",
              "          const docLink = document.createElement('div');\n",
              "          docLink.innerHTML = docLinkHtml;\n",
              "          element.appendChild(docLink);\n",
              "        }\n",
              "      </script>\n",
              "    </div>\n",
              "  </div>\n",
              "  "
            ]
          },
          "metadata": {},
          "execution_count": 7
        }
      ],
      "source": [
        "df_sample.head()"
      ]
    },
    {
      "cell_type": "markdown",
      "metadata": {
        "id": "m_axCqpOh-Ro"
      },
      "source": [
        "## Text Preprocessing\n",
        "Text preprocessing applies a variety of steps to text in order to clean or transform it for the computer to better understand. There are several common preprocessing steps. Let's take an example sentence and apply these steps to it.\n",
        "\n",
        "Sentence: \"She was offered the job 11 months ago.\"\n",
        "\n",
        "- Lowercase \n",
        "    - \"she was offered the job 11 months ago.\"\n",
        "- Remove punctuation \n",
        "    - \"she was offered the job 11 months ago\"\n",
        "- Remove numbers \n",
        "    - \"she was offered the job months ago\"\n",
        "- Remove stop words - remove words that are very common in the English language \n",
        "    - \"she offered job months ago\"\n",
        "- Tokenization - splitting the sentence up into tokens \n",
        "    - \"she\", \"offered\", \"job\", \"months\", \"ago\"\n",
        "- Stemming / lemmatization - transforming the token into its root form \n",
        "    - \"offer\", \"job\", \"month\", \"ago\"\n",
        "\n",
        "While these are all very popular preprocessing steps, they may not all be used on every project or even in this same order. The data you have and the problem you're trying to solve may add or remove any of these steps (and more) from your preprocessing. For example, if you want to see how many sentences are in the average Amazon review, you shouldn't remove punctuation.\n",
        "\n",
        "spaCy allows us to apply all of the preprocessing steps above in a single line of code by using [token attributes](https://spacy.io/api/token#attributes).\n",
        "- `token.lemma_` - lemmatizes the token\n",
        "- `token.is_alpha` - Removes punctuation and numbers (non-alphabetic characters)\n",
        "- `token.is_stop` - Removes stop words"
      ]
    },
    {
      "cell_type": "code",
      "execution_count": null,
      "metadata": {
        "id": "fzBVIAd-h-Rp"
      },
      "outputs": [],
      "source": [
        "# Try out text preprocessing on sample text\n",
        "text = \"She was offered the job 11 months ago.\"\n",
        "doc = nlp(text)\n",
        "text_clean = [token.lemma_.lower() for token in doc if token.is_alpha and not token.is_stop]"
      ]
    },
    {
      "cell_type": "code",
      "execution_count": null,
      "metadata": {
        "id": "q0MbAJxxh-Rp"
      },
      "outputs": [],
      "source": [
        "print(doc)"
      ]
    },
    {
      "cell_type": "code",
      "execution_count": null,
      "metadata": {
        "id": "G7_SnFU1h-Rq"
      },
      "outputs": [],
      "source": [
        "print(text_clean)"
      ]
    },
    {
      "cell_type": "code",
      "execution_count": null,
      "metadata": {
        "id": "7u71hIkdh-Rq"
      },
      "outputs": [],
      "source": [
        "# Preprocess the entire dataframe\n",
        "def preprocess_text(spacy_doc: spacy.tokens.doc.Doc) -> str:\n",
        "    \"\"\"\n",
        "    Preprocess a spacy Doc by lemmatizing, removing stop words, and removing non-alphabetical characters.\n",
        "    \n",
        "    Parameters\n",
        "    ----------\n",
        "    spacy_doc: spacy.tokens.doc.Doc\n",
        "        A spacy Doc object, i.e. a sequence of Token objects\n",
        "\n",
        "    Returns\n",
        "    -------\n",
        "    str\n",
        "        The cleaned text\n",
        "\n",
        "    \"\"\"\n",
        "    text_clean = [token.lemma_.lower() for token in spacy_doc if token.is_alpha and not token.is_stop]\n",
        "    return ' '.join(text_clean)\n",
        "\n",
        "\n",
        "df_sample['spacy_doc'] = df_sample['reviewText'].apply(lambda x: nlp(x))\n",
        "df_sample['review_text_clean'] = df_sample['spacy_doc'].apply(lambda x: preprocess_text(x))"
      ]
    },
    {
      "cell_type": "code",
      "execution_count": null,
      "metadata": {
        "id": "0rJ06UJlh-Rr"
      },
      "outputs": [],
      "source": [
        "print(df_sample['spacy_doc'].head())"
      ]
    },
    {
      "cell_type": "code",
      "execution_count": null,
      "metadata": {
        "id": "CoqpC5V2h-Rr"
      },
      "outputs": [],
      "source": [
        "print(df_sample['review_text_clean'].head())"
      ]
    },
    {
      "cell_type": "markdown",
      "metadata": {
        "id": "MncYXAPbh-Rr"
      },
      "source": [
        "## Term Frequency\n",
        "With thousands of data points, we don't have time to read through each individual review to learn more about the data set. One way we can summarize the data is through the most popular words in reviews (term frequency). To do this, we use `CountVectorizer` from `scikit-learn`.\n",
        "\n",
        "CountVectorizer converts text into a matrix of token counts. It has a variety of [parameters](https://scikit-learn.org/stable/modules/generated/sklearn.feature_extraction.text.CountVectorizer.html) you can use to customize your results, but we will focus on `stop_words` and `ngram_range`.\n",
        "\n",
        "Although we previously removed stop words in our preprocessing steps, scikit-learn uses a different set of stop words than spaCy. Oftentimes it is beneficial to combine multiple stop words lists or create your own custom list to exclude common words that don't add value.\n",
        "\n",
        "N-grams are used to break text up into chunks. An example of a 1-gram is \"hello\", and an example of a 2-gram is \"hello there\". Modifying the `ngram_range` in `CountVectorizer` allows us to see the most popular words AND most popular phrases."
      ]
    },
    {
      "cell_type": "markdown",
      "metadata": {
        "id": "klmBQejU2u5I"
      },
      "source": [
        "### CountVectorizer"
      ]
    },
    {
      "cell_type": "code",
      "execution_count": null,
      "metadata": {
        "id": "VUH5Aop9h-Rs"
      },
      "outputs": [],
      "source": [
        "vectorizer = CountVectorizer(stop_words='english', ngram_range=(1, 1))\n",
        "docs = vectorizer.fit_transform(df_sample['review_text_clean'])\n",
        "features = vectorizer.get_feature_names()"
      ]
    },
    {
      "cell_type": "markdown",
      "metadata": {
        "id": "5aEjV-rNh-Rs"
      },
      "source": [
        "Next, we plot the most popular words with `FreqDistVisualizer` from `scikit-yellowbrick`."
      ]
    },
    {
      "cell_type": "code",
      "execution_count": null,
      "metadata": {
        "id": "24ydlUc4h-Rs"
      },
      "outputs": [],
      "source": [
        "visualizer = FreqDistVisualizer(features=features, size=(1080, 700))\n",
        "visualizer.fit(docs)\n",
        "visualizer.show()"
      ]
    },
    {
      "cell_type": "markdown",
      "metadata": {
        "id": "UNvhamWa22h2"
      },
      "source": [
        "### Compare Top Tokens for Helpful/Unhelpful Reviews"
      ]
    },
    {
      "cell_type": "markdown",
      "metadata": {
        "id": "CJdQFM3lT6Se"
      },
      "source": [
        "We work on a lot of multi-class classification problems in our day jobs, and one thing we like to do when exploring the data is see how the most frequent tokens in each class compare to each other. Ideally, each class will have distinct tokens, which makes it easier for our model to predict which class the text belongs to.\n",
        "\n",
        "For this example, let's assume we want to create a classifier to predict whether or not a review will be helpful. We'll split our data into two classes: \"helpful\" and \"not helpful\". We'll consider a review to be \"helpful\" if at least 50% of people who rated the review found it helpful. To calculate this, we'll look at the \"helpful\" column in our data set."
      ]
    },
    {
      "cell_type": "code",
      "execution_count": null,
      "metadata": {
        "id": "g-0KKe_fWIHZ"
      },
      "outputs": [],
      "source": [
        "def calculate_helpful_percent(x: list) -> float:\n",
        "  \"\"\"\n",
        "    Calculates the percent of people who found a review helpful based on the\n",
        "    \"helpful\" column in our dataframe. The \"helpful\" column is formatted as\n",
        "    [1, 3] for example. This means that 1 out of 3 people found the review\n",
        "    helpful. We calculate the percent by taking the first number divided by \n",
        "    the second number.\n",
        "    \n",
        "    Parameters\n",
        "    ----------\n",
        "    x: list\n",
        "        A list of two integers. The first number is the number of people\n",
        "        who found the review helpful. The second number is the total number\n",
        "        of people who rated the review.\n",
        "\n",
        "    Returns\n",
        "    -------\n",
        "    float\n",
        "      The percent of people who found the review helpful\n",
        "\n",
        "  \"\"\"\n",
        "  if x[1] != 0:\n",
        "    return x[0] / x[1]\n",
        "  else:\n",
        "    return 0\n",
        "\n",
        "df_sample['helpful_percent'] = df_sample['helpful'].apply(lambda x: calculate_helpful_percent(x))\n",
        "df_sample['classification'] = df_sample['helpful_percent'].apply(lambda x: 'helpful' if x >= 0.5 else 'not helpful')"
      ]
    },
    {
      "cell_type": "code",
      "execution_count": null,
      "metadata": {
        "id": "1Ke7BbTyZujb"
      },
      "outputs": [],
      "source": [
        "df_sample.head()"
      ]
    },
    {
      "cell_type": "code",
      "execution_count": null,
      "metadata": {
        "id": "rfmj2i5iZ3YH"
      },
      "outputs": [],
      "source": [
        "df_sample['classification'].value_counts()"
      ]
    },
    {
      "cell_type": "markdown",
      "metadata": {
        "id": "RQPHA8V9aL6b"
      },
      "source": [
        "Let's look at the most frequent tokens in helpful reviews"
      ]
    },
    {
      "cell_type": "code",
      "execution_count": null,
      "metadata": {
        "id": "Im7EsLTBaAWj"
      },
      "outputs": [],
      "source": [
        "vectorizer = CountVectorizer(stop_words='english', ngram_range=(1, 1))\n",
        "docs = vectorizer.fit_transform(df_sample.loc[df_sample['classification'] == 'helpful', 'review_text_clean'])\n",
        "features = vectorizer.get_feature_names()\n",
        "\n",
        "visualizer = FreqDistVisualizer(features=features, size=(1080, 720))\n",
        "visualizer.fit(docs)\n",
        "visualizer.show()"
      ]
    },
    {
      "cell_type": "markdown",
      "metadata": {
        "id": "x5KpO6m-azvM"
      },
      "source": [
        "Let's see how these tokens compare to not helpful reviews"
      ]
    },
    {
      "cell_type": "code",
      "execution_count": null,
      "metadata": {
        "id": "JFzniJEzbAWz"
      },
      "outputs": [],
      "source": [
        "vectorizer = CountVectorizer(stop_words='english', ngram_range=(1, 1))\n",
        "docs = vectorizer.fit_transform(df_sample.loc[df_sample['classification'] == 'not helpful', 'review_text_clean'])\n",
        "features = vectorizer.get_feature_names()\n",
        "\n",
        "visualizer = FreqDistVisualizer(features=features, size=(1080, 720))\n",
        "visualizer.fit(docs)\n",
        "visualizer.show()"
      ]
    },
    {
      "cell_type": "markdown",
      "metadata": {
        "id": "mwS3CxGk3DVD"
      },
      "source": [
        "### Analyze Token Counts"
      ]
    },
    {
      "cell_type": "markdown",
      "metadata": {
        "id": "h2jEmqm7bMkX"
      },
      "source": [
        "While exploring our data, we should probably see how long our reviews are (i.e. how many tokens are in a review). We can see how the original text and the preprocessed text compare."
      ]
    },
    {
      "cell_type": "code",
      "execution_count": null,
      "metadata": {
        "id": "8aNqdVSSh-Rt"
      },
      "outputs": [],
      "source": [
        "df_sample['token_count_all'] = df_sample['spacy_doc'].apply(lambda x: len(x))\n",
        "df_sample['token_count_clean'] = df_sample['review_text_clean'].apply(lambda x: len(x.split()))"
      ]
    },
    {
      "cell_type": "code",
      "execution_count": null,
      "metadata": {
        "id": "7yzErUrvCuaa"
      },
      "outputs": [],
      "source": [
        "df_sample.head()"
      ]
    },
    {
      "cell_type": "code",
      "execution_count": null,
      "metadata": {
        "id": "BCA4eFF4h-Rt"
      },
      "outputs": [],
      "source": [
        "df_sample['token_count_all'].value_counts().sort_index().plot.bar(figsize=(40,5), \n",
        "                                                                    title='All Tokens per Review',\n",
        "                                                                    xlabel='Tokens',\n",
        "                                                                    ylabel='Number of Reviews')"
      ]
    },
    {
      "cell_type": "code",
      "execution_count": null,
      "metadata": {
        "id": "lLBqXW0Qh-Rt"
      },
      "outputs": [],
      "source": [
        "df_sample['token_count_clean'].value_counts().sort_index().plot.bar(figsize=(17,5), \n",
        "                                                                    title='Clean Tokens per Review',\n",
        "                                                                    xlabel='Tokens',\n",
        "                                                                    ylabel='Number of Reviews')"
      ]
    },
    {
      "cell_type": "code",
      "execution_count": null,
      "metadata": {
        "id": "V3ouLcifh-Ru"
      },
      "outputs": [],
      "source": [
        "df_sample[df_sample['token_count_clean'] == 271]['reviewText'].values[0]"
      ]
    },
    {
      "cell_type": "markdown",
      "metadata": {
        "id": "qBtxSZPLh-Ru"
      },
      "source": [
        "## Named Entity Recognition\n",
        "Named Entity Recognition (NER) identifies real-world objects such as people, places, or things in text. NER is useful in many scenarios such as identifying and masking sensitive information such as names of people. spaCy recognizes [several different types of entities](https://v2.spacy.io/api/annotation#named-entities) and has a nice visualization to highlight all entities it recognized in text. "
      ]
    },
    {
      "cell_type": "code",
      "execution_count": null,
      "metadata": {
        "id": "oRJZclgih-Rv"
      },
      "outputs": [],
      "source": [
        "doc = df_sample['spacy_doc'][271416]\n",
        "print(doc)\n",
        "for ent in doc.ents:\n",
        "    print(ent.text, ent.start_char, ent.end_char, ent.label_)"
      ]
    },
    {
      "cell_type": "code",
      "execution_count": null,
      "metadata": {
        "id": "fdeyCVEUh-Rv"
      },
      "outputs": [],
      "source": [
        "displacy.render(df_sample['spacy_doc'][271416], style=\"ent\", jupyter=True)"
      ]
    },
    {
      "cell_type": "code",
      "execution_count": null,
      "metadata": {
        "id": "ZMQ27Bj4h-Rv"
      },
      "outputs": [],
      "source": [
        "# Recognize all entities in all Amazon reviews\n",
        "df_entities = pd.DataFrame(columns=['index', 'spacy_doc', 'entity_text', 'entity_label', 'entity_start', 'entity_end'])\n",
        "\n",
        "index = 0\n",
        "for row in df_sample.itertuples():\n",
        "    for ent in row.spacy_doc.ents:\n",
        "        df_entities.at[index, 'index'] = row.Index\n",
        "        df_entities.at[index, 'spacy_doc'] = row.spacy_doc\n",
        "        df_entities.at[index, 'entity_text'] = ent.text\n",
        "        df_entities.at[index, 'entity_label'] = ent.label_\n",
        "        df_entities.at[index, 'entity_start'] = ent.start_char\n",
        "        df_entities.at[index, 'entity_end'] = ent.end_char\n",
        "        index += 1"
      ]
    },
    {
      "cell_type": "code",
      "execution_count": null,
      "metadata": {
        "id": "FjOQTT3ah-Rw"
      },
      "outputs": [],
      "source": [
        "df_entities.head()"
      ]
    },
    {
      "cell_type": "code",
      "execution_count": null,
      "metadata": {
        "id": "DN9UyIyNh-Rw"
      },
      "outputs": [],
      "source": [
        "#See the most popular entities recognized\n",
        "df_entities['entity_label'].value_counts()"
      ]
    },
    {
      "cell_type": "code",
      "execution_count": null,
      "metadata": {
        "id": "1nRAYprWh-Rw"
      },
      "outputs": [],
      "source": [
        "#See what products are recognized\n",
        "df_filtered = df_entities[df_entities['entity_label'] == 'ORG']"
      ]
    },
    {
      "cell_type": "code",
      "execution_count": null,
      "metadata": {
        "id": "04aBSp6Yh-Rw"
      },
      "outputs": [],
      "source": [
        "df_filtered['entity_text'].value_counts()"
      ]
    },
    {
      "cell_type": "markdown",
      "metadata": {
        "id": "YdNGwX0wh-Rw"
      },
      "source": [
        "## Part of Speech Tagging\n",
        "Part-of-Speech tagging determines which [part of speech](https://en.wikipedia.org/wiki/Part_of_speech) each token is. This usually occurs behind the scenes before lemmatization since many words can serve as multiple parts of speech and may be lemmatized differently depending on the certain part of speech. Additionally, POS tagging is used as a foundation for NER and many other text processing steps. One real world application of POS tagging is to distinguish between words with the same spelling but different meanings for translation. For example, if a computer was translating \"Can you throw this can in the trash?\" to Spanish, it would need to know that \"can\" has two different parts of speech in this sentence."
      ]
    },
    {
      "cell_type": "code",
      "execution_count": null,
      "metadata": {
        "id": "DETQVj2Dh-Rx"
      },
      "outputs": [],
      "source": [
        "doc = df_sample['spacy_doc'][271416]\n",
        "for token in doc:\n",
        "    print(token.text, token.pos_, token.dep_)"
      ]
    },
    {
      "cell_type": "markdown",
      "metadata": {
        "id": "dVIUloii3YAU"
      },
      "source": [
        "### Dependency Parsing"
      ]
    },
    {
      "cell_type": "code",
      "execution_count": null,
      "metadata": {
        "id": "Xer8zOTch-Rx"
      },
      "outputs": [],
      "source": [
        "# Dependency Parsing\n",
        "\n",
        "displacy.render(df_sample['spacy_doc'][271416], style=\"dep\", jupyter=True)"
      ]
    },
    {
      "cell_type": "markdown",
      "metadata": {
        "id": "_zfZGwTa3UZ_"
      },
      "source": [
        "### Count Adjectives and Adverbs"
      ]
    },
    {
      "cell_type": "code",
      "execution_count": null,
      "metadata": {
        "id": "pjyCbayNh-Ry"
      },
      "outputs": [],
      "source": [
        "for token in doc:\n",
        "    if token.pos_ == 'ADJ' or token.pos_ == 'ADV':\n",
        "        print(token.text, token.pos_, token.dep_)"
      ]
    },
    {
      "cell_type": "code",
      "execution_count": null,
      "metadata": {
        "id": "mYqQ5NfYh-Ry"
      },
      "outputs": [],
      "source": [
        "def count_adverbs_adjectives(spacy_doc: spacy.tokens.doc.Doc) -> int:\n",
        "    \"\"\"\n",
        "    Count the number of adjectives and adverbs in the text\n",
        "    \n",
        "    Parameters\n",
        "    ----------\n",
        "    spacy_doc: spacy.tokens.doc.Doc\n",
        "        A spacy Doc object, i.e. a sequence of Token objects\n",
        "\n",
        "    Returns\n",
        "    -------\n",
        "    int\n",
        "        The number of adverbs and adjectives in the text\n",
        "\n",
        "    \"\"\"\n",
        "    counter = 0\n",
        "    for token in spacy_doc:\n",
        "        if token.pos_ == 'ADJ' or token.pos_ == 'ADV':\n",
        "            counter+=1\n",
        "    \n",
        "    return counter   "
      ]
    },
    {
      "cell_type": "code",
      "execution_count": null,
      "metadata": {
        "id": "Mdx4ynN1h-Ry"
      },
      "outputs": [],
      "source": [
        "df_sample['count_adj_adv'] = df_sample['spacy_doc'].apply(lambda x: count_adverbs_adjectives(x))"
      ]
    },
    {
      "cell_type": "code",
      "execution_count": null,
      "metadata": {
        "id": "JKkdloTPh-Ry"
      },
      "outputs": [],
      "source": [
        "df_sample['count_adj_adv'].value_counts().sort_index().plot.bar(figsize=(15,5))"
      ]
    },
    {
      "cell_type": "code",
      "execution_count": null,
      "metadata": {
        "id": "5FoOChDjh-Ry"
      },
      "outputs": [],
      "source": [
        "df_sample[df_sample['count_adj_adv'] == 124]['reviewText'].values[0]"
      ]
    },
    {
      "cell_type": "markdown",
      "metadata": {
        "id": "Ubi3N0ImmXbk"
      },
      "source": [
        "##Text Similarity\n",
        "Text similarity determines how similar two documents are. We can determine similarity in two broad categories: lexical and semantic. Lexical similarity allows us to consider documents to be similar based on the literal words that are shared between documents. In other words, the more words two documents have in common, the more similar the documents are. Semantic similarity takes into account the meaning of the documents. For example, if one document talks about cars while another document talks about buses, those two documents may have a high semantic similarity.\n",
        "\n",
        "For this course, we will mainly focus on lexical similarity, specifically Jaccard and Cosine similarity, as well as edit distance. Popular semantic similarity methods include [Word2Vec](https://jalammar.github.io/illustrated-word2vec/) and [BERT](https://huggingface.co/blog/bert-101)."
      ]
    },
    {
      "cell_type": "code",
      "execution_count": null,
      "metadata": {
        "id": "U_9Dcs9rmUH4"
      },
      "outputs": [],
      "source": [
        "from sklearn.feature_extraction.text import TfidfVectorizer\n",
        "from sklearn.metrics.pairwise import cosine_similarity\n",
        "import numpy as np\n",
        "from nltk import jaccard_distance\n",
        "# Note - nltk calls Levenshtein distance \"edit_distance\"\n",
        "from nltk.metrics.distance import edit_distance, jaro_winkler_similarity"
      ]
    },
    {
      "cell_type": "markdown",
      "metadata": {
        "id": "osc-IjwrjSmp"
      },
      "source": [
        "### Levenshtein Edit Distance"
      ]
    },
    {
      "cell_type": "code",
      "execution_count": null,
      "metadata": {
        "id": "RszXvg5XxR35"
      },
      "outputs": [],
      "source": [
        "def calculate_levenshtein_edit_distance_matrix(corpus_list: list) -> np.ndarray:\n",
        "  \"\"\"\n",
        "  Create a matrix of Levenshtein edit distance for all documents in our corpus.\n",
        "  This is the number of edits it takes to transform one document into another.\n",
        "  Two documents are considered identical if they have a Levenshtein edit \n",
        "  distance of 0, so the diagonal of our matrix will be all 0's.\n",
        "\n",
        "  Parameters\n",
        "  ----------\n",
        "  corpus_list: list\n",
        "      The corpus formatted as a list\n",
        "\n",
        "  Returns\n",
        "  -------\n",
        "  edit_distance_matrix: np.ndarray\n",
        "    A matrix containing the number of edits to get from one string to another for\n",
        "    all items in the corpus\n",
        "\n",
        "  \"\"\"\n",
        "  col_len = len(corpus_list)\n",
        "  edit_distance_list = []\n",
        "  for str_a in corpus_list:\n",
        "    for str_b in corpus_list:\n",
        "      edit_distance_list.append(edit_distance(str_a, str_b))\n",
        "\n",
        "  levenshtein_edit_distance_matrix = np.array(edit_distance_list).reshape(col_len, col_len)\n",
        "  \n",
        "  return levenshtein_edit_distance_matrix"
      ]
    },
    {
      "cell_type": "code",
      "execution_count": null,
      "metadata": {
        "id": "v8BCT0MEyqNA"
      },
      "outputs": [],
      "source": [
        "# Define our corpus\n",
        "corpus = df_sample['review_text_clean'][:10]\n",
        "\n",
        "# Calculate our jaccard similarity matrix\n",
        "corpus_list = list(corpus)\n",
        "levenshtein_edit_distance_matrix = calculate_levenshtein_edit_distance_matrix(corpus_list)"
      ]
    },
    {
      "cell_type": "code",
      "execution_count": null,
      "metadata": {
        "id": "uP__JU4V-1aj"
      },
      "outputs": [],
      "source": [
        "levenshtein_edit_distance_matrix"
      ]
    },
    {
      "cell_type": "code",
      "execution_count": null,
      "metadata": {
        "id": "Ll1Bio6u6-bK"
      },
      "outputs": [],
      "source": [
        "# Compare two reviews to each other\n",
        "review_1_idx = 2 # this review is about a mattress\n",
        "review_2_idx = 3 # this review is about a crockpot\n",
        "\n",
        "print(corpus_list[review_1_idx])\n",
        "print(corpus_list[review_2_idx])\n",
        "print(levenshtein_edit_distance_matrix[review_1_idx, review_2_idx])"
      ]
    },
    {
      "cell_type": "markdown",
      "metadata": {
        "id": "B4hVQAnVjYOg"
      },
      "source": [
        "### Jaro-Winkler Similarity"
      ]
    },
    {
      "cell_type": "code",
      "execution_count": null,
      "metadata": {
        "id": "kMuuPor99n12"
      },
      "outputs": [],
      "source": [
        "def calculate_jaro_winkler_matrix(corpus_list: list) -> np.ndarray:\n",
        "  \"\"\"\n",
        "  Create a Jaro Winkler similarity matrix for all documents in our corpus.\n",
        "  This is the number of edits it takes (including transpositions) to transform \n",
        "  one document into another. Two documents are considered identical if they\n",
        "  have a Jaro-Winkler similarity of 1, so the diagonal of our matrix will be \n",
        "  all 1's.\n",
        "\n",
        "  Parameters\n",
        "  ----------\n",
        "  corpus_list: list\n",
        "      The corpus formatted as a list\n",
        "\n",
        "  Returns\n",
        "  -------\n",
        "  jaro_winkler_matrix: np.ndarray\n",
        "    A matrix containing jaro winkler similarity scores for all items in the corpus\n",
        "\n",
        "  \"\"\"\n",
        "  col_len = len(corpus_list)\n",
        "  jaro_winkler_list = []\n",
        "  for str_a in corpus_list:\n",
        "    for str_b in corpus_list:\n",
        "      jaro_winkler_list.append(jaro_winkler_similarity(str_a, str_b))\n",
        "\n",
        "  jaro_winkler_matrix = np.array(jaro_winkler_list).reshape(col_len, col_len)\n",
        "  \n",
        "  return jaro_winkler_matrix"
      ]
    },
    {
      "cell_type": "code",
      "execution_count": null,
      "metadata": {
        "id": "Am79z8Dz9oNY"
      },
      "outputs": [],
      "source": [
        "# Define our corpus\n",
        "corpus = df_sample['review_text_clean'][:10]\n",
        "\n",
        "# Calculate our jaro winkler similarity matrix\n",
        "corpus_list = list(corpus)\n",
        "jaro_winkler_matrix = calculate_jaro_winkler_matrix(corpus_list)"
      ]
    },
    {
      "cell_type": "code",
      "execution_count": null,
      "metadata": {
        "id": "-oEi_TrR_mKI"
      },
      "outputs": [],
      "source": [
        "# Print via for loop so we can see the diagonal easily\n",
        "for row in jaro_winkler_matrix:\n",
        "  for item in row:\n",
        "    print('%3f ' % item, end=\"\")\n",
        "  print()"
      ]
    },
    {
      "cell_type": "code",
      "execution_count": null,
      "metadata": {
        "id": "UjnrjDl8BP2r"
      },
      "outputs": [],
      "source": [
        "# Compare two reviews to each other\n",
        "review_1_idx = 2\n",
        "review_2_idx = 3\n",
        "\n",
        "print(corpus_list[review_1_idx])\n",
        "print(corpus_list[review_2_idx])\n",
        "print(jaro_winkler_matrix[review_1_idx, review_2_idx])"
      ]
    },
    {
      "cell_type": "markdown",
      "metadata": {
        "id": "mpoiuccxjfls"
      },
      "source": [
        "### Jaccard Similarity"
      ]
    },
    {
      "cell_type": "code",
      "execution_count": null,
      "metadata": {
        "id": "mUzd2hOYUs9R"
      },
      "outputs": [],
      "source": [
        "def calculate_jaccard_similarity_matrix(corpus_list: list) -> np.ndarray:\n",
        "  \"\"\"\n",
        "  Create a jaccard similarity matrix for all documents in our corpus.\n",
        "  This is the intersection of unique tokens in the document divided by the\n",
        "  union of unique words in both documents. Two documents are considered \n",
        "  identical if they have a Jaccard similarity score of 1, so the diagonal\n",
        "  of our matrix will be all 1's.\n",
        "\n",
        "  Parameters\n",
        "  ----------\n",
        "  corpus_list: list\n",
        "      The corpus formatted as a list\n",
        "\n",
        "  Returns\n",
        "  -------\n",
        "  jaccard_matrix: np.ndarray\n",
        "    A matrix containing jaccard similarity scores for all items in the corpus\n",
        "\n",
        "  \"\"\"\n",
        "  col_len = len(corpus_list)\n",
        "  jaccard_list = []\n",
        "  for str_a in corpus_list:\n",
        "    set_a = set(str_a.split())\n",
        "    for str_b in corpus_list:\n",
        "      set_b = set(str_b.split())\n",
        "      jaccard_list.append(1 - jaccard_distance(set_a, set_b))\n",
        "\n",
        "  jaccard_matrix = np.array(jaccard_list).reshape(col_len, col_len)\n",
        "  \n",
        "  return jaccard_matrix"
      ]
    },
    {
      "cell_type": "code",
      "execution_count": null,
      "metadata": {
        "id": "bhONY4jeNtsR"
      },
      "outputs": [],
      "source": [
        "# Define our corpus\n",
        "corpus = df_sample['review_text_clean']\n",
        "\n",
        "# Calculate our jaccard similarity matrix\n",
        "corpus_list = list(corpus)\n",
        "jaccard_matrix = calculate_jaccard_similarity_matrix(corpus_list)"
      ]
    },
    {
      "cell_type": "code",
      "execution_count": null,
      "metadata": {
        "id": "r18Z800dJbu1"
      },
      "outputs": [],
      "source": [
        "# Compare two reviews to each other\n",
        "review_1_idx = 2\n",
        "review_2_idx = 3\n",
        "\n",
        "print(corpus_list[review_1_idx])\n",
        "print(corpus_list[review_2_idx])\n",
        "print(jaccard_matrix[review_1_idx, review_2_idx])"
      ]
    },
    {
      "cell_type": "markdown",
      "metadata": {
        "id": "nccEGWYnjkaF"
      },
      "source": [
        "### Cosine Similarity with TFIDF"
      ]
    },
    {
      "cell_type": "code",
      "execution_count": null,
      "metadata": {
        "id": "bec_h-QuJR7H"
      },
      "outputs": [],
      "source": [
        "# TF-IDF Feature Extraction \n",
        "vectorizer = TfidfVectorizer()\n",
        "tf_idf = vectorizer.fit_transform(corpus, (1,1))\n",
        "\n",
        "# Calculate our cosine similary matrix\n",
        "cosine_similarity_matrix = cosine_similarity(tf_idf)"
      ]
    },
    {
      "cell_type": "code",
      "execution_count": null,
      "metadata": {
        "id": "uP-aPWXEKGRU"
      },
      "outputs": [],
      "source": [
        "print(corpus_list[review_1_idx])\n",
        "print(corpus_list[review_2_idx])\n",
        "print(cosine_similarity_matrix[review_1_idx, review_2_idx])"
      ]
    },
    {
      "cell_type": "markdown",
      "metadata": {
        "id": "G_PIk9h-jz1V"
      },
      "source": [
        "### Get the most similar reviews via each method"
      ]
    },
    {
      "cell_type": "markdown",
      "metadata": {
        "id": "bgLyEFpkp-78"
      },
      "source": [
        "Get the most similar reviews using Levenshtein edit distance. Remember, we only calculated the Levenshtein edit distance for the first 10 reviews. "
      ]
    },
    {
      "cell_type": "code",
      "execution_count": null,
      "metadata": {
        "id": "XAtsP4bap-Ns"
      },
      "outputs": [],
      "source": [
        "# get the indices for the min where not 0\n",
        "indices = np.argwhere(levenshtein_edit_distance_matrix == np.min(levenshtein_edit_distance_matrix[np.nonzero(levenshtein_edit_distance_matrix)]))\n",
        "\n",
        "# Print the max similarity for our data set\n",
        "print(f\"Minimum Levenshtein distance: {levenshtein_edit_distance_matrix[indices[0][0], indices[1][0]]}\")\n",
        "\n",
        "# Print the review text\n",
        "print(corpus_list[indices[0][0]])\n",
        "print(corpus_list[indices[1][0]])"
      ]
    },
    {
      "cell_type": "markdown",
      "metadata": {
        "id": "hLTcPgOAqFrU"
      },
      "source": [
        "Get the most similar reviews using Jaro Winkler similarity. Remember, we only calculated the Jaro Winkler similarity for the first 10 reviews."
      ]
    },
    {
      "cell_type": "code",
      "execution_count": null,
      "metadata": {
        "id": "qX2hls0kqFSg"
      },
      "outputs": [],
      "source": [
        "# fill the values along the diagonal with 0, so we don't count them as most similar\n",
        "np.fill_diagonal(jaro_winkler_matrix, 0)\n",
        "indices = np.argwhere(jaro_winkler_matrix == jaro_winkler_matrix.max())\n",
        "\n",
        "# Print the max similarity for our data set\n",
        "print(f\"Maximum Jaro-Winkler similarity: {jaro_winkler_matrix[indices[0][0], indices[1][0]]}\")\n",
        "\n",
        "# Print the review text\n",
        "print(corpus_list[indices[0][0]])\n",
        "print(corpus_list[indices[1][0]])"
      ]
    },
    {
      "cell_type": "markdown",
      "metadata": {
        "id": "pIqTGMdxrnEi"
      },
      "source": [
        "Get the most similar reviews using Jaccard Similarity\n",
        "\n"
      ]
    },
    {
      "cell_type": "code",
      "execution_count": null,
      "metadata": {
        "id": "cscB23xgjRCn"
      },
      "outputs": [],
      "source": [
        "# fill the values along the diagonal with 0, so we don't count them as most similar\n",
        "np.fill_diagonal(jaccard_matrix, 0)\n",
        "indices = np.argwhere(jaccard_matrix == jaccard_matrix.max())\n",
        "\n",
        "# Print the max similarity for our data set\n",
        "print(f\"Maximum Jaccard similarity: {jaccard_matrix[indices[0][0], indices[1][0]]}\")\n",
        "\n",
        "# Print the review text\n",
        "print(corpus_list[indices[0][0]])\n",
        "print(corpus_list[indices[1][0]])"
      ]
    },
    {
      "cell_type": "markdown",
      "metadata": {
        "id": "zswRlMrrMHpy"
      },
      "source": [
        "Get the most similar reviews using Cosine Similarity"
      ]
    },
    {
      "cell_type": "code",
      "execution_count": null,
      "metadata": {
        "id": "Ewrsb3LlLjt4"
      },
      "outputs": [],
      "source": [
        "# fill the values along the diagonal with 0, so we don't count them as most similar\n",
        "np.fill_diagonal(cosine_similarity_matrix, 0)\n",
        "indices = np.argwhere(cosine_similarity_matrix == cosine_similarity_matrix.max())\n",
        "\n",
        "# Print the max similarity for our data set\n",
        "print(f\"Maximum cosine similarity: {cosine_similarity_matrix[indices[0][0], indices[1][0]]}\")\n",
        "\n",
        "# Print the review text\n",
        "print(corpus_list[indices[0][0]])\n",
        "print(corpus_list[indices[1][0]])"
      ]
    },
    {
      "cell_type": "markdown",
      "metadata": {
        "id": "LGBpk_ggomVc"
      },
      "source": [
        "## Topic Modeling\n",
        "Topic modeling is an unsupervised machine learning technique that finds hidden topics within a corpus. Topic modeling has a variety of real world applications including resume summarization and content recommendation. The two most popular topic modeling methods are Latent Semantic Analysis (LSA) and Latent Dirichlet Allocation (LDA). "
      ]
    },
    {
      "cell_type": "code",
      "execution_count": null,
      "metadata": {
        "id": "U4dgf8CaUnzt"
      },
      "outputs": [],
      "source": [
        "!pip install pyLDAvis"
      ]
    },
    {
      "cell_type": "code",
      "execution_count": null,
      "metadata": {
        "id": "LFmYu5jT4k68"
      },
      "outputs": [],
      "source": [
        "from gensim import corpora\n",
        "from gensim.models import Phrases, LsiModel\n",
        "from gensim.models.ldamodel import LdaModel\n",
        "from gensim.models.coherencemodel import CoherenceModel\n",
        "import matplotlib.pyplot as plt\n",
        "import numpy as np\n",
        "import re\n",
        "import operator\n",
        "import pyLDAvis\n",
        "import pyLDAvis.gensim_models as gensimvis"
      ]
    },
    {
      "cell_type": "code",
      "execution_count": null,
      "metadata": {
        "id": "BniuUzeu1zMB"
      },
      "outputs": [],
      "source": [
        "# Format each document as a list of tokens\n",
        "doc_clean = [doc.split() for doc in df_sample['review_text_clean']]\n",
        "\n",
        "# Add bigrams to documents\n",
        "# Gensim Phrases detects bigrams via a scoring function and threshold\n",
        "bigram = Phrases(doc_clean)\n",
        "doc_clean = [bigram[line] for line in doc_clean]"
      ]
    },
    {
      "cell_type": "code",
      "execution_count": null,
      "metadata": {
        "id": "JumM6p3Y2WQa"
      },
      "outputs": [],
      "source": [
        "# Creating the term dictionary of our corpus, where every unique term is assigned an index. \n",
        "dictionary = corpora.Dictionary(doc_clean)\n",
        "\n",
        "# Filter out words that occur less than 10 documents, or more than 50% of the documents.\n",
        "dictionary.filter_extremes(no_below=10, no_above=0.5)   \n",
        "\n",
        "# Converting list of documents (corpus) into Document Term Matrix using dictionary prepared above.\n",
        "doc_term_matrix = [dictionary.doc2bow(doc) for doc in doc_clean]\n",
        "\n",
        "print('Number of unique tokens: %d' % len(dictionary))\n",
        "print('Number of documents: %d' % len(doc_term_matrix))"
      ]
    },
    {
      "cell_type": "markdown",
      "metadata": {
        "id": "my6VHkIDHDkP"
      },
      "source": [
        "### LSA\n",
        "LSA is based on the [distributional hypothesis](https://en.wikipedia.org/wiki/Distributional_semantics), which suggests that words that are used and occur in the same contexts tend to have similar meanings. It uses Term Frequency-Inverse Document Frequency (TFIDF) and Singular Value Decomposition (SVD) to identify relationships between terms and concepts contained in unstructured text.\n",
        "\n",
        "We'll use the gensim library to implement an LSA model. We're mainly using the default parameters, but we encourage you to check out the [documentation](https://radimrehurek.com/gensim/models/lsimodel.html) and tweak them for your use case."
      ]
    },
    {
      "cell_type": "code",
      "execution_count": null,
      "metadata": {
        "id": "LNliy3YTgMuR"
      },
      "outputs": [],
      "source": [
        "# Compute coherence values\n",
        "coherence_values = []\n",
        "model_list = []\n",
        "start = 2\n",
        "stop = 20\n",
        "step = 1\n",
        "chunksize = 2000 #controls how many documents are processed at a time during training. Increasing chunksize speeds up training\n",
        "num_topics_range = range(start, stop, step)\n",
        "\n",
        "# look into what these parameters mean, especially chunksize\n",
        "for num_topics in num_topics_range:\n",
        "  model = LsiModel(corpus=doc_term_matrix, num_topics=num_topics, id2word = dictionary, chunksize=chunksize)\n",
        "  model_list.append(model)\n",
        "  coherencemodel = CoherenceModel(model=model, texts=doc_clean, dictionary=dictionary)\n",
        "  coherence_values.append(coherencemodel.get_coherence())"
      ]
    },
    {
      "cell_type": "code",
      "execution_count": null,
      "metadata": {
        "id": "OBD8zYg-hc61"
      },
      "outputs": [],
      "source": [
        "def plot_coherence_scores(num_topics_range: range, coherence_values: list):\n",
        "  \"\"\"\n",
        "    Plot the coherence scores for each number of topics\n",
        "    \n",
        "    Parameters\n",
        "    ----------\n",
        "    num_topics_range: range\n",
        "        A the range of the number of topics. This is used for labeling the x-axis.\n",
        "    coherence_values: list\n",
        "        The coherence values for each number of topics from gensim's CoherenceModel.\n",
        "\n",
        "    Returns\n",
        "    -------\n",
        "    None\n",
        "\n",
        "    \"\"\"\n",
        "  plt.plot(num_topics_range, coherence_values)\n",
        "  plt.xticks(np.arange(min(num_topics_range), max(num_topics_range)+1, 1.0))\n",
        "  plt.xlabel(\"Number of Topics\")\n",
        "  plt.ylabel(\"Coherence score\")\n",
        "  plt.show()\n",
        "\n",
        "\n",
        "plot_coherence_scores(num_topics_range=num_topics_range, coherence_values=coherence_values)"
      ]
    },
    {
      "cell_type": "code",
      "execution_count": null,
      "metadata": {
        "id": "5oUfbrmYPuKB"
      },
      "outputs": [],
      "source": [
        "def get_optimal_number_of_topics(num_topics_range: range, coherence_values: list) -> int:\n",
        "  \"\"\"\n",
        "    Determines the optimal number of topics based on the maximum coherence score value.\n",
        "    \n",
        "    Parameters\n",
        "    ----------\n",
        "    num_topics_range: range\n",
        "        A the range of the number of topics. This is used for labeling the x-axis.\n",
        "    coherence_values: list\n",
        "        The coherence values for each number of topics from gensim's CoherenceModel.\n",
        "\n",
        "    Returns\n",
        "    -------\n",
        "    best_num_topics: int\n",
        "      The optimal number of topics based on the maximum coherence value.\n",
        "\n",
        "    \"\"\"\n",
        "  max_coherence_index = coherence_values.index(max(coherence_values))\n",
        "  best_num_topics = num_topics_range[max_coherence_index]\n",
        "  return best_num_topics\n",
        "\n",
        "\n",
        "best_num_topics = get_optimal_number_of_topics(num_topics_range=num_topics_range, coherence_values=coherence_values)"
      ]
    },
    {
      "cell_type": "code",
      "execution_count": null,
      "metadata": {
        "id": "65kYtpmZA-jW"
      },
      "outputs": [],
      "source": [
        "best_num_topics"
      ]
    },
    {
      "cell_type": "code",
      "execution_count": null,
      "metadata": {
        "id": "24eoI6b-aBvc"
      },
      "outputs": [],
      "source": [
        "#set training parameters\n",
        "chunksize = 2000    #controls how many documents are processed at a time during training. Increasing chunksize speeds up training\n",
        "\n",
        "# LSA Model\n",
        "lsamodel = LsiModel(corpus=doc_term_matrix, num_topics=best_num_topics, id2word = dictionary, chunksize=chunksize)"
      ]
    },
    {
      "cell_type": "code",
      "execution_count": null,
      "metadata": {
        "id": "561m-HapXRls"
      },
      "outputs": [],
      "source": [
        "lsa_topics_with_topic_num = lsamodel.show_topics(num_words=5)"
      ]
    },
    {
      "cell_type": "code",
      "execution_count": null,
      "metadata": {
        "id": "yfueEIqXBZuZ"
      },
      "outputs": [],
      "source": [
        "lsa_topics_with_topic_num"
      ]
    },
    {
      "cell_type": "code",
      "execution_count": null,
      "metadata": {
        "id": "RSu-lijAZ-Aq"
      },
      "outputs": [],
      "source": [
        "# Create a dictionary with topic number as key and list of words as values\n",
        "\n",
        "def create_dict_from_topic_info(topics_with_topic_num: list) -> dict:\n",
        "  \"\"\"\n",
        "    Creates a dictionary with key = topic number and value = list of topics.\n",
        "    This allows for a more human-readable format than gensim provides.\n",
        "    \n",
        "    Parameters\n",
        "    ----------\n",
        "    topics_with_topic_num: range\n",
        "        A list of tuples containing topic numbers, weights, and topics.\n",
        "\n",
        "    Returns\n",
        "    -------\n",
        "    topic_dict: dict\n",
        "      A dictionary with key = topic number and value = list of topics.\n",
        "\n",
        "    \"\"\"\n",
        "  topic_dict = {}\n",
        "  for item in topics_with_topic_num:\n",
        "      key = item[0]\n",
        "      topic_words = item[1]\n",
        "\n",
        "      topic_words_clean = re.sub(\"[^a-zA-Z]\", \" \", topic_words)\n",
        "      value = [topic for topic in topic_words_clean.split(\" \") if topic != \"\"]\n",
        "      topic_dict[key] = value\n",
        "  \n",
        "  return topic_dict\n",
        "\n",
        "\n",
        "lsa_topic_dict = create_dict_from_topic_info(lsa_topics_with_topic_num)\n",
        "\n",
        "for value in lsa_topic_dict.values():\n",
        "  print(value)"
      ]
    },
    {
      "cell_type": "markdown",
      "metadata": {
        "id": "1X2xZsZjHfcO"
      },
      "source": [
        "### LDA\n",
        "LDA assumes documents are a mixture of topics and topics are a mixture of words. While LSA uses linear algebra to determine topics, LDA takes a probabilistic approach. It first randomly assigns each word in each document to a topic. Next, for each word in each document, we compute the proportion of documents where the word is assigned to the topic, as well as the proportion of words in a document that are currently assigned to the topic. LDA continues to update the probabilities until they converge.\n",
        "\n",
        "We'll use the gensim library to implement an LDA model. We're mainly using the default parameters, but we encourage you to check out the [documentation](https://radimrehurek.com/gensim/models/ldamodel.html) and tweak them for your use case."
      ]
    },
    {
      "cell_type": "code",
      "execution_count": null,
      "metadata": {
        "id": "DznlszCX4q6W"
      },
      "outputs": [],
      "source": [
        "# Compute coherence values\n",
        "coherence_values = []\n",
        "model_list = []\n",
        "start = 2\n",
        "stop = 20\n",
        "step = 1\n",
        "num_topics_range = range(start, stop, step)\n",
        "\n",
        "chunksize = 2000    #controls how many documents are processed at a time during training. Increasing chunksize speeds up training\n",
        "passes = 20         #how often we train model on entire corpus\n",
        "iterations = 400    #controls how ofter we repeat a particular loop over each document\n",
        "eval_every = None   #Don't evaluate model perplexity, takes too much time.\n",
        "\n",
        "for num_topics in num_topics_range:\n",
        "  model = LdaModel(corpus=doc_term_matrix, num_topics=num_topics, id2word = dictionary, chunksize=chunksize, \n",
        "                   iterations=iterations, passes=passes, eval_every=eval_every, random_state=1913)\n",
        "  model_list.append(model)\n",
        "  coherencemodel = CoherenceModel(model=model, texts=doc_clean, dictionary=dictionary)\n",
        "  coherence_values.append(coherencemodel.get_coherence())\n"
      ]
    },
    {
      "cell_type": "code",
      "execution_count": null,
      "metadata": {
        "id": "KW68sO6-42dQ"
      },
      "outputs": [],
      "source": [
        "# Plot the coherence scores\n",
        "plot_coherence_scores(num_topics_range=num_topics_range, coherence_values=coherence_values)"
      ]
    },
    {
      "cell_type": "code",
      "execution_count": null,
      "metadata": {
        "id": "fTtnVVZeaRGH"
      },
      "outputs": [],
      "source": [
        "# Get the optimal number of topics\n",
        "best_num_topics = get_optimal_number_of_topics(coherence_values=coherence_values, num_topics_range=num_topics_range)"
      ]
    },
    {
      "cell_type": "code",
      "execution_count": null,
      "metadata": {
        "id": "xeEllXWoaQu9"
      },
      "outputs": [],
      "source": [
        "#set training parameters\n",
        "chunksize = 2000    #controls how many documents are processed at a time during training. Increasing chunksize speeds up training\n",
        "passes = 20         #how often we train model on entire corpus\n",
        "iterations = 400    #controls how ofter we repeat a particular loop over each document\n",
        "eval_every = None   #Don't evaluate model perplexity, takes too much time.\n",
        "\n",
        "# Running and Training LDA model on the document term matrix.\n",
        "ldamodel = LdaModel(corpus=doc_term_matrix, num_topics=best_num_topics, id2word = dictionary, chunksize=chunksize, \n",
        "                    iterations=iterations, passes=passes, eval_every=eval_every, random_state=1913)"
      ]
    },
    {
      "cell_type": "code",
      "execution_count": null,
      "metadata": {
        "id": "dqVw5CwP5Zi2"
      },
      "outputs": [],
      "source": [
        "# This shows the topic numbers with words\n",
        "lda_topics_with_topic_num = ldamodel.show_topics(num_words=5)"
      ]
    },
    {
      "cell_type": "code",
      "execution_count": null,
      "metadata": {
        "id": "qSYn-jDB6QmQ"
      },
      "outputs": [],
      "source": [
        "lda_topic_dict = create_dict_from_topic_info(lda_topics_with_topic_num)\n",
        "\n",
        "for value in lda_topic_dict.values():\n",
        "  print(value)"
      ]
    },
    {
      "cell_type": "markdown",
      "source": [
        "pyLDAvis' [documentation](https://cran.r-project.org/web/packages/LDAvis/vignettes/details.pdf) helps us understand the visualization below.\n",
        "\n",
        "*   **Default Topic Circles** - A circle for each topic where the area is proportional to the proportions of the topics across the total tokens in the corpus.\n",
        "*   **Red Bars** - The estimated number of times a term was generated by the topic. If you select a topic, you'll see red bars for the most relevant terms for the topic.\n",
        "*   **Blue Bars** - Represents the overall frequency of each term in the corpus. If no topic is selected, you'll see the most [salient](http://vis.stanford.edu/files/2012-Termite-AVI.pdf) terms in the corpus. If a topic is selected, you'll see the most relevant terms. \n",
        "*   **Topic-Term Circles** - If you hover over each word, you will see the area of the topic circles change. This is showing the frequency that a term is estimated to have been generated by the topic.\n"
      ],
      "metadata": {
        "id": "D83_i8wvzyb0"
      }
    },
    {
      "cell_type": "code",
      "execution_count": null,
      "metadata": {
        "id": "24fFAA-oDCAZ"
      },
      "outputs": [],
      "source": [
        "# Visualize the topics\n",
        "# NOTE LSA cannot be visualized with PyLDAvis\n",
        "pyLDAvis.enable_notebook()\n",
        "vis = gensimvis.prepare(ldamodel, doc_term_matrix, dictionary)\n",
        "vis"
      ]
    },
    {
      "cell_type": "code",
      "execution_count": null,
      "metadata": {
        "id": "GkxWS7iM5uVg"
      },
      "outputs": [],
      "source": [
        "# get topics per document\n",
        "# returns a probability distributions of topics for each document\n",
        "# NOTE - LSA does not have a function to show topics per document\n",
        "lda_topics_probability = [ldamodel.get_document_topics(item) for item in doc_term_matrix]\n",
        "\n",
        "for probability_distribution in lda_topics_probability:\n",
        "  print(probability_distribution)"
      ]
    },
    {
      "cell_type": "code",
      "execution_count": null,
      "metadata": {
        "id": "TezChlOO5133"
      },
      "outputs": [],
      "source": [
        "# get the topic with the max probability for each document\n",
        "lda_top_topic_numbers = [\n",
        "    max(item, key=operator.itemgetter(1)) for item in lda_topics_probability\n",
        "]\n",
        "\n",
        "print(lda_top_topic_numbers)"
      ]
    },
    {
      "cell_type": "code",
      "execution_count": null,
      "metadata": {
        "id": "4sDIe8B_7JCU"
      },
      "outputs": [],
      "source": [
        "# Create a df for just the topic info \n",
        "df_topics = pd.DataFrame(lda_top_topic_numbers, columns=[\"lda_topic_num\", \"lda_topic_probability\"], index=df_sample.index)\n",
        "df_topics[\"lda_topic_words\"] = df_topics[\"lda_topic_num\"].map(lda_topic_dict)\n",
        "df_topics.head()"
      ]
    },
    {
      "cell_type": "code",
      "execution_count": null,
      "metadata": {
        "id": "3IFzmCe16Eka"
      },
      "outputs": [],
      "source": [
        "# Join topic info with the main df\n",
        "df_sample = df_sample.merge(df_topics, left_index=True, right_index=True)"
      ]
    },
    {
      "cell_type": "markdown",
      "metadata": {
        "id": "NfzDiRsXEjIz"
      },
      "source": [
        "You could use the topic numbers and/or the probabilities as an input into a ML model"
      ]
    },
    {
      "cell_type": "code",
      "execution_count": null,
      "metadata": {
        "id": "dOkSWdUY6eTz"
      },
      "outputs": [],
      "source": [
        "df_sample.head()"
      ]
    },
    {
      "cell_type": "code",
      "execution_count": null,
      "metadata": {
        "id": "e-xjE3yuKNa_"
      },
      "outputs": [],
      "source": [
        "# Check if the topic assignments make sense\n",
        "for review in df_sample[:5].itertuples():\n",
        "  print(review.reviewText)\n",
        "  print(review.lda_topic_probability)\n",
        "  print(review.lda_topic_words)\n",
        "  print(\"\\n\")"
      ]
    },
    {
      "cell_type": "markdown",
      "metadata": {
        "id": "5c61hPiocsYp"
      },
      "source": [
        "## Connect with us!\n",
        "If you liked this course, we'd love to connect with you on other plaforms. Check out our [landing page](https://linktr.ee/DataScienceRebalanced) or shoot us an email [here](mailto:DataScienceRebalanced@gmail.com)\n",
        "![2022-04-15_14-02-58.png](data:image/png;base64,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)"
      ]
    }
  ],
  "metadata": {
    "colab": {
      "collapsed_sections": [],
      "name": "Introduction to Natural Language Processing.ipynb",
      "provenance": [],
      "include_colab_link": true
    },
    "kernelspec": {
      "display_name": "Python 3",
      "language": "python",
      "name": "python3"
    },
    "language_info": {
      "codemirror_mode": {
        "name": "ipython",
        "version": 3
      },
      "file_extension": ".py",
      "mimetype": "text/x-python",
      "name": "python",
      "nbconvert_exporter": "python",
      "pygments_lexer": "ipython3",
      "version": "3.7.3"
    }
  },
  "nbformat": 4,
  "nbformat_minor": 0
}